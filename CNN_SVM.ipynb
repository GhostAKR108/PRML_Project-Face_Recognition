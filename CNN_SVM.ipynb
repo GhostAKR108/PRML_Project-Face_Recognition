{
  "cells": [
    {
      "cell_type": "code",
      "execution_count": 2,
      "metadata": {
        "id": "OpBQw8NPiBTM"
      },
      "outputs": [],
      "source": [
        "import numpy as np\n",
        "import os\n",
        "import torch\n",
        "from sklearn.datasets import fetch_lfw_people\n",
        "import torchvision.models as models\n",
        "from torch.utils import data\n",
        "import torch.nn as nn\n",
        "import torch.nn.functional as F\n",
        "import torch.optim as optim\n",
        "import pandas as pd\n",
        "import matplotlib.pyplot as plt\n",
        "import torchvision.transforms as transforms\n",
        "from PIL import Image\n",
        "from sklearn.model_selection import train_test_split\n"
      ]
    },
    {
      "cell_type": "markdown",
      "metadata": {
        "id": "pbVCYgex9suP"
      },
      "source": [
        "Fetching Dataset"
      ]
    },
    {
      "cell_type": "code",
      "execution_count": 3,
      "metadata": {
        "colab": {
          "base_uri": "https://localhost:8080/"
        },
        "id": "BJYp-RSSiKBk",
        "outputId": "b146ad98-eaf5-4d91-9e6b-2ec995851de3"
      },
      "outputs": [
        {
          "name": "stdout",
          "output_type": "stream",
          "text": [
            "Number of samples: 1288\n",
            "Number of features: 1850\n",
            "Number of classes: 7\n"
          ]
        }
      ],
      "source": [
        "# Fetch LFW dataset with minimum faces per person = 40\n",
        "lfw_people = fetch_lfw_people(min_faces_per_person=70, resize=0.4)\n",
        "# Extracting data and target labels\n",
        "X = lfw_people.data\n",
        "y = lfw_people.target\n",
        "target_names = lfw_people.target_names\n",
        "# df = np.genfromtxt('./lfw_people.csv',delimiter=',')\n",
        "# X = df[:, :-1]\n",
        "# y = df[:, -1]\n",
        "n_samples, n_features = X.shape\n",
        "n_classes = len(np.unique(y))\n",
        "\n",
        "# Print dataset statistics\n",
        "print(\"Number of samples: %d\" % n_samples)\n",
        "print(\"Number of features: %d\" % n_features)\n",
        "print(\"Number of classes: %d\" % n_classes)"
      ]
    },
    {
      "cell_type": "markdown",
      "metadata": {
        "id": "6OFhT6xz6UFo"
      },
      "source": [
        "Restructuring Image Pixel Values"
      ]
    },
    {
      "cell_type": "code",
      "execution_count": 22,
      "metadata": {
        "colab": {
          "base_uri": "https://localhost:8080/"
        },
        "id": "q9xzYgxr6erM",
        "outputId": "d34102b7-ab05-401b-8f7e-c16aa14a410b"
      },
      "outputs": [
        {
          "name": "stdout",
          "output_type": "stream",
          "text": [
            "[[0.9973857  0.99607843 0.9921568  ... 0.29803923 0.24836601 0.20653595]\n",
            " [0.9973857  0.9921569  0.9908497  ... 0.30588236 0.2535948  0.21568628]\n",
            " [0.96078426 0.93071896 0.8679738  ... 0.2875817  0.24183007 0.21568628]\n",
            " ...\n",
            " [0.34509805 0.26143792 0.17385621 ... 0.4248366  0.40261438 0.39084968]\n",
            " [0.30980393 0.23398693 0.17124183 ... 0.39869282 0.4013072  0.3764706 ]\n",
            " [0.28366014 0.2248366  0.18039216 ... 0.38169935 0.38823533 0.3803922 ]]\n"
          ]
        }
      ],
      "source": [
        "img = X[0].reshape((lfw_people.images.shape[1],lfw_people.images.shape[2]))\n",
        "print(img)"
      ]
    },
    {
      "cell_type": "code",
      "execution_count": 4,
      "metadata": {
        "colab": {
          "base_uri": "https://localhost:8080/",
          "height": 571
        },
        "id": "-4ryBUe6iPmi",
        "outputId": "1db4b793-423a-4020-ce5e-fe44638e39f1"
      },
      "outputs": [
        {
          "name": "stdout",
          "output_type": "stream",
          "text": [
            "[[254 254 252 ...  76  63  52]\n",
            " [254 253 252 ...  78  64  55]\n",
            " [244 237 221 ...  73  61  55]\n",
            " ...\n",
            " [ 88  66  44 ... 108 102  99]\n",
            " [ 79  59  43 ... 101 102  96]\n",
            " [ 72  57  46 ...  97  99  97]]\n",
            "Hugo Chavez\n"
          ]
        },
        {
          "data": {
            "image/png": "[encoded data removed]",
            "text/plain": [
              "<Figure size 640x480 with 1 Axes>"
            ]
          },
          "metadata": {},
          "output_type": "display_data"
        }
      ],
      "source": [
        "#Restructuring pixel values to have value between 0 to 255\n",
        "img = (img * 255).astype(np.uint8)\n",
        "print(img)\n",
        "plt.imshow(img)\n",
        "print(target_names[5])"
      ]
    },
    {
      "cell_type": "markdown",
      "metadata": {
        "id": "hKE1EZF-6sfI"
      },
      "source": [
        "Model Building"
      ]
    },
    {
      "cell_type": "code",
      "execution_count": 8,
      "metadata": {
        "colab": {
          "base_uri": "https://localhost:8080/"
        },
        "id": "cPLLvqZdj1XL",
        "outputId": "b648d3e5-5615-41e5-bf35-babb45793824"
      },
      "outputs": [
        {
          "name": "stderr",
          "output_type": "stream",
          "text": [
            "/usr/local/lib/python3.10/dist-packages/torchvision/models/_utils.py:208: UserWarning: The parameter 'pretrained' is deprecated since 0.13 and may be removed in the future, please use 'weights' instead.\n",
            "  warnings.warn(\n",
            "/usr/local/lib/python3.10/dist-packages/torchvision/models/_utils.py:223: UserWarning: Arguments other than a weight enum or `None` for 'weights' are deprecated since 0.13 and may be removed in the future. The current behavior is equivalent to passing `weights=ResNet50_Weights.IMAGENET1K_V1`. You can also use `weights=ResNet50_Weights.DEFAULT` to get the most up-to-date weights.\n",
            "  warnings.warn(msg)\n",
            "Downloading: \"https://download.pytorch.org/models/resnet50-0676ba61.pth\" to /root/.cache/torch/hub/checkpoints/resnet50-0676ba61.pth\n",
            "100%|██████████| 97.8M/97.8M [00:01<00:00, 98.8MB/s]\n"
          ]
        },
        {
          "data": {
            "text/plain": [
              "Sequential(\n",
              "  (0): Conv2d(3, 64, kernel_size=(7, 7), stride=(2, 2), padding=(3, 3), bias=False)\n",
              "  (1): BatchNorm2d(64, eps=1e-05, momentum=0.1, affine=True, track_running_stats=True)\n",
              "  (2): ReLU(inplace=True)\n",
              "  (3): MaxPool2d(kernel_size=3, stride=2, padding=1, dilation=1, ceil_mode=False)\n",
              "  (4): Sequential(\n",
              "    (0): Bottleneck(\n",
              "      (conv1): Conv2d(64, 64, kernel_size=(1, 1), stride=(1, 1), bias=False)\n",
              "      (bn1): BatchNorm2d(64, eps=1e-05, momentum=0.1, affine=True, track_running_stats=True)\n",
              "      (conv2): Conv2d(64, 64, kernel_size=(3, 3), stride=(1, 1), padding=(1, 1), bias=False)\n",
              "      (bn2): BatchNorm2d(64, eps=1e-05, momentum=0.1, affine=True, track_running_stats=True)\n",
              "      (conv3): Conv2d(64, 256, kernel_size=(1, 1), stride=(1, 1), bias=False)\n",
              "      (bn3): BatchNorm2d(256, eps=1e-05, momentum=0.1, affine=True, track_running_stats=True)\n",
              "      (relu): ReLU(inplace=True)\n",
              "      (downsample): Sequential(\n",
              "        (0): Conv2d(64, 256, kernel_size=(1, 1), stride=(1, 1), bias=False)\n",
              "        (1): BatchNorm2d(256, eps=1e-05, momentum=0.1, affine=True, track_running_stats=True)\n",
              "      )\n",
              "    )\n",
              "    (1): Bottleneck(\n",
              "      (conv1): Conv2d(256, 64, kernel_size=(1, 1), stride=(1, 1), bias=False)\n",
              "      (bn1): BatchNorm2d(64, eps=1e-05, momentum=0.1, affine=True, track_running_stats=True)\n",
              "      (conv2): Conv2d(64, 64, kernel_size=(3, 3), stride=(1, 1), padding=(1, 1), bias=False)\n",
              "      (bn2): BatchNorm2d(64, eps=1e-05, momentum=0.1, affine=True, track_running_stats=True)\n",
              "      (conv3): Conv2d(64, 256, kernel_size=(1, 1), stride=(1, 1), bias=False)\n",
              "      (bn3): BatchNorm2d(256, eps=1e-05, momentum=0.1, affine=True, track_running_stats=True)\n",
              "      (relu): ReLU(inplace=True)\n",
              "    )\n",
              "    (2): Bottleneck(\n",
              "      (conv1): Conv2d(256, 64, kernel_size=(1, 1), stride=(1, 1), bias=False)\n",
              "      (bn1): BatchNorm2d(64, eps=1e-05, momentum=0.1, affine=True, track_running_stats=True)\n",
              "      (conv2): Conv2d(64, 64, kernel_size=(3, 3), stride=(1, 1), padding=(1, 1), bias=False)\n",
              "      (bn2): BatchNorm2d(64, eps=1e-05, momentum=0.1, affine=True, track_running_stats=True)\n",
              "      (conv3): Conv2d(64, 256, kernel_size=(1, 1), stride=(1, 1), bias=False)\n",
              "      (bn3): BatchNorm2d(256, eps=1e-05, momentum=0.1, affine=True, track_running_stats=True)\n",
              "      (relu): ReLU(inplace=True)\n",
              "    )\n",
              "  )\n",
              "  (5): Sequential(\n",
              "    (0): Bottleneck(\n",
              "      (conv1): Conv2d(256, 128, kernel_size=(1, 1), stride=(1, 1), bias=False)\n",
              "      (bn1): BatchNorm2d(128, eps=1e-05, momentum=0.1, affine=True, track_running_stats=True)\n",
              "      (conv2): Conv2d(128, 128, kernel_size=(3, 3), stride=(2, 2), padding=(1, 1), bias=False)\n",
              "      (bn2): BatchNorm2d(128, eps=1e-05, momentum=0.1, affine=True, track_running_stats=True)\n",
              "      (conv3): Conv2d(128, 512, kernel_size=(1, 1), stride=(1, 1), bias=False)\n",
              "      (bn3): BatchNorm2d(512, eps=1e-05, momentum=0.1, affine=True, track_running_stats=True)\n",
              "      (relu): ReLU(inplace=True)\n",
              "      (downsample): Sequential(\n",
              "        (0): Conv2d(256, 512, kernel_size=(1, 1), stride=(2, 2), bias=False)\n",
              "        (1): BatchNorm2d(512, eps=1e-05, momentum=0.1, affine=True, track_running_stats=True)\n",
              "      )\n",
              "    )\n",
              "    (1): Bottleneck(\n",
              "      (conv1): Conv2d(512, 128, kernel_size=(1, 1), stride=(1, 1), bias=False)\n",
              "      (bn1): BatchNorm2d(128, eps=1e-05, momentum=0.1, affine=True, track_running_stats=True)\n",
              "      (conv2): Conv2d(128, 128, kernel_size=(3, 3), stride=(1, 1), padding=(1, 1), bias=False)\n",
              "      (bn2): BatchNorm2d(128, eps=1e-05, momentum=0.1, affine=True, track_running_stats=True)\n",
              "      (conv3): Conv2d(128, 512, kernel_size=(1, 1), stride=(1, 1), bias=False)\n",
              "      (bn3): BatchNorm2d(512, eps=1e-05, momentum=0.1, affine=True, track_running_stats=True)\n",
              "      (relu): ReLU(inplace=True)\n",
              "    )\n",
              "    (2): Bottleneck(\n",
              "      (conv1): Conv2d(512, 128, kernel_size=(1, 1), stride=(1, 1), bias=False)\n",
              "      (bn1): BatchNorm2d(128, eps=1e-05, momentum=0.1, affine=True, track_running_stats=True)\n",
              "      (conv2): Conv2d(128, 128, kernel_size=(3, 3), stride=(1, 1), padding=(1, 1), bias=False)\n",
              "      (bn2): BatchNorm2d(128, eps=1e-05, momentum=0.1, affine=True, track_running_stats=True)\n",
              "      (conv3): Conv2d(128, 512, kernel_size=(1, 1), stride=(1, 1), bias=False)\n",
              "      (bn3): BatchNorm2d(512, eps=1e-05, momentum=0.1, affine=True, track_running_stats=True)\n",
              "      (relu): ReLU(inplace=True)\n",
              "    )\n",
              "    (3): Bottleneck(\n",
              "      (conv1): Conv2d(512, 128, kernel_size=(1, 1), stride=(1, 1), bias=False)\n",
              "      (bn1): BatchNorm2d(128, eps=1e-05, momentum=0.1, affine=True, track_running_stats=True)\n",
              "      (conv2): Conv2d(128, 128, kernel_size=(3, 3), stride=(1, 1), padding=(1, 1), bias=False)\n",
              "      (bn2): BatchNorm2d(128, eps=1e-05, momentum=0.1, affine=True, track_running_stats=True)\n",
              "      (conv3): Conv2d(128, 512, kernel_size=(1, 1), stride=(1, 1), bias=False)\n",
              "      (bn3): BatchNorm2d(512, eps=1e-05, momentum=0.1, affine=True, track_running_stats=True)\n",
              "      (relu): ReLU(inplace=True)\n",
              "    )\n",
              "  )\n",
              "  (6): Sequential(\n",
              "    (0): Bottleneck(\n",
              "      (conv1): Conv2d(512, 256, kernel_size=(1, 1), stride=(1, 1), bias=False)\n",
              "      (bn1): BatchNorm2d(256, eps=1e-05, momentum=0.1, affine=True, track_running_stats=True)\n",
              "      (conv2): Conv2d(256, 256, kernel_size=(3, 3), stride=(2, 2), padding=(1, 1), bias=False)\n",
              "      (bn2): BatchNorm2d(256, eps=1e-05, momentum=0.1, affine=True, track_running_stats=True)\n",
              "      (conv3): Conv2d(256, 1024, kernel_size=(1, 1), stride=(1, 1), bias=False)\n",
              "      (bn3): BatchNorm2d(1024, eps=1e-05, momentum=0.1, affine=True, track_running_stats=True)\n",
              "      (relu): ReLU(inplace=True)\n",
              "      (downsample): Sequential(\n",
              "        (0): Conv2d(512, 1024, kernel_size=(1, 1), stride=(2, 2), bias=False)\n",
              "        (1): BatchNorm2d(1024, eps=1e-05, momentum=0.1, affine=True, track_running_stats=True)\n",
              "      )\n",
              "    )\n",
              "    (1): Bottleneck(\n",
              "      (conv1): Conv2d(1024, 256, kernel_size=(1, 1), stride=(1, 1), bias=False)\n",
              "      (bn1): BatchNorm2d(256, eps=1e-05, momentum=0.1, affine=True, track_running_stats=True)\n",
              "      (conv2): Conv2d(256, 256, kernel_size=(3, 3), stride=(1, 1), padding=(1, 1), bias=False)\n",
              "      (bn2): BatchNorm2d(256, eps=1e-05, momentum=0.1, affine=True, track_running_stats=True)\n",
              "      (conv3): Conv2d(256, 1024, kernel_size=(1, 1), stride=(1, 1), bias=False)\n",
              "      (bn3): BatchNorm2d(1024, eps=1e-05, momentum=0.1, affine=True, track_running_stats=True)\n",
              "      (relu): ReLU(inplace=True)\n",
              "    )\n",
              "    (2): Bottleneck(\n",
              "      (conv1): Conv2d(1024, 256, kernel_size=(1, 1), stride=(1, 1), bias=False)\n",
              "      (bn1): BatchNorm2d(256, eps=1e-05, momentum=0.1, affine=True, track_running_stats=True)\n",
              "      (conv2): Conv2d(256, 256, kernel_size=(3, 3), stride=(1, 1), padding=(1, 1), bias=False)\n",
              "      (bn2): BatchNorm2d(256, eps=1e-05, momentum=0.1, affine=True, track_running_stats=True)\n",
              "      (conv3): Conv2d(256, 1024, kernel_size=(1, 1), stride=(1, 1), bias=False)\n",
              "      (bn3): BatchNorm2d(1024, eps=1e-05, momentum=0.1, affine=True, track_running_stats=True)\n",
              "      (relu): ReLU(inplace=True)\n",
              "    )\n",
              "    (3): Bottleneck(\n",
              "      (conv1): Conv2d(1024, 256, kernel_size=(1, 1), stride=(1, 1), bias=False)\n",
              "      (bn1): BatchNorm2d(256, eps=1e-05, momentum=0.1, affine=True, track_running_stats=True)\n",
              "      (conv2): Conv2d(256, 256, kernel_size=(3, 3), stride=(1, 1), padding=(1, 1), bias=False)\n",
              "      (bn2): BatchNorm2d(256, eps=1e-05, momentum=0.1, affine=True, track_running_stats=True)\n",
              "      (conv3): Conv2d(256, 1024, kernel_size=(1, 1), stride=(1, 1), bias=False)\n",
              "      (bn3): BatchNorm2d(1024, eps=1e-05, momentum=0.1, affine=True, track_running_stats=True)\n",
              "      (relu): ReLU(inplace=True)\n",
              "    )\n",
              "    (4): Bottleneck(\n",
              "      (conv1): Conv2d(1024, 256, kernel_size=(1, 1), stride=(1, 1), bias=False)\n",
              "      (bn1): BatchNorm2d(256, eps=1e-05, momentum=0.1, affine=True, track_running_stats=True)\n",
              "      (conv2): Conv2d(256, 256, kernel_size=(3, 3), stride=(1, 1), padding=(1, 1), bias=False)\n",
              "      (bn2): BatchNorm2d(256, eps=1e-05, momentum=0.1, affine=True, track_running_stats=True)\n",
              "      (conv3): Conv2d(256, 1024, kernel_size=(1, 1), stride=(1, 1), bias=False)\n",
              "      (bn3): BatchNorm2d(1024, eps=1e-05, momentum=0.1, affine=True, track_running_stats=True)\n",
              "      (relu): ReLU(inplace=True)\n",
              "    )\n",
              "    (5): Bottleneck(\n",
              "      (conv1): Conv2d(1024, 256, kernel_size=(1, 1), stride=(1, 1), bias=False)\n",
              "      (bn1): BatchNorm2d(256, eps=1e-05, momentum=0.1, affine=True, track_running_stats=True)\n",
              "      (conv2): Conv2d(256, 256, kernel_size=(3, 3), stride=(1, 1), padding=(1, 1), bias=False)\n",
              "      (bn2): BatchNorm2d(256, eps=1e-05, momentum=0.1, affine=True, track_running_stats=True)\n",
              "      (conv3): Conv2d(256, 1024, kernel_size=(1, 1), stride=(1, 1), bias=False)\n",
              "      (bn3): BatchNorm2d(1024, eps=1e-05, momentum=0.1, affine=True, track_running_stats=True)\n",
              "      (relu): ReLU(inplace=True)\n",
              "    )\n",
              "  )\n",
              "  (7): Sequential(\n",
              "    (0): Bottleneck(\n",
              "      (conv1): Conv2d(1024, 512, kernel_size=(1, 1), stride=(1, 1), bias=False)\n",
              "      (bn1): BatchNorm2d(512, eps=1e-05, momentum=0.1, affine=True, track_running_stats=True)\n",
              "      (conv2): Conv2d(512, 512, kernel_size=(3, 3), stride=(2, 2), padding=(1, 1), bias=False)\n",
              "      (bn2): BatchNorm2d(512, eps=1e-05, momentum=0.1, affine=True, track_running_stats=True)\n",
              "      (conv3): Conv2d(512, 2048, kernel_size=(1, 1), stride=(1, 1), bias=False)\n",
              "      (bn3): BatchNorm2d(2048, eps=1e-05, momentum=0.1, affine=True, track_running_stats=True)\n",
              "      (relu): ReLU(inplace=True)\n",
              "      (downsample): Sequential(\n",
              "        (0): Conv2d(1024, 2048, kernel_size=(1, 1), stride=(2, 2), bias=False)\n",
              "        (1): BatchNorm2d(2048, eps=1e-05, momentum=0.1, affine=True, track_running_stats=True)\n",
              "      )\n",
              "    )\n",
              "    (1): Bottleneck(\n",
              "      (conv1): Conv2d(2048, 512, kernel_size=(1, 1), stride=(1, 1), bias=False)\n",
              "      (bn1): BatchNorm2d(512, eps=1e-05, momentum=0.1, affine=True, track_running_stats=True)\n",
              "      (conv2): Conv2d(512, 512, kernel_size=(3, 3), stride=(1, 1), padding=(1, 1), bias=False)\n",
              "      (bn2): BatchNorm2d(512, eps=1e-05, momentum=0.1, affine=True, track_running_stats=True)\n",
              "      (conv3): Conv2d(512, 2048, kernel_size=(1, 1), stride=(1, 1), bias=False)\n",
              "      (bn3): BatchNorm2d(2048, eps=1e-05, momentum=0.1, affine=True, track_running_stats=True)\n",
              "      (relu): ReLU(inplace=True)\n",
              "    )\n",
              "    (2): Bottleneck(\n",
              "      (conv1): Conv2d(2048, 512, kernel_size=(1, 1), stride=(1, 1), bias=False)\n",
              "      (bn1): BatchNorm2d(512, eps=1e-05, momentum=0.1, affine=True, track_running_stats=True)\n",
              "      (conv2): Conv2d(512, 512, kernel_size=(3, 3), stride=(1, 1), padding=(1, 1), bias=False)\n",
              "      (bn2): BatchNorm2d(512, eps=1e-05, momentum=0.1, affine=True, track_running_stats=True)\n",
              "      (conv3): Conv2d(512, 2048, kernel_size=(1, 1), stride=(1, 1), bias=False)\n",
              "      (bn3): BatchNorm2d(2048, eps=1e-05, momentum=0.1, affine=True, track_running_stats=True)\n",
              "      (relu): ReLU(inplace=True)\n",
              "    )\n",
              "  )\n",
              "  (8): AdaptiveAvgPool2d(output_size=(1, 1))\n",
              ")"
            ]
          },
          "execution_count": 8,
          "metadata": {},
          "output_type": "execute_result"
        }
      ],
      "source": [
        "resnet = models.resnet50(pretrained=True)\n",
        "resnet = nn.Sequential(*list(resnet.children())[:-1])\n",
        "resnet.eval()"
      ]
    },
    {
      "cell_type": "markdown",
      "metadata": {
        "id": "zqJwMLwZ91_H"
      },
      "source": [
        "Feature Extraction Function"
      ]
    },
    {
      "cell_type": "code",
      "execution_count": 10,
      "metadata": {
        "id": "QNUirge0oyps"
      },
      "outputs": [],
      "source": [
        "def extract_features(image_arrays, model):\n",
        "    # Load and preprocess the images\n",
        "    preprocessed_images = []\n",
        "    for image_array in image_arrays:\n",
        "        img = image_array.reshape((lfw_people.images.shape[1],lfw_people.images.shape[2]))\n",
        "        img = (img * 255).astype(np.uint8)\n",
        "        image = Image.fromarray(img).convert('RGB')\n",
        "        preprocess = transforms.Compose([\n",
        "            transforms.Resize(256),\n",
        "            transforms.CenterCrop(224),\n",
        "            transforms.ToTensor(),\n",
        "            transforms.Normalize(mean=[0.485], std=[0.229]),  # Assuming grayscale images\n",
        "        ])\n",
        "        image = preprocess(image)\n",
        "        preprocessed_images.append(image)\n",
        "\n",
        "    # Stack the preprocessed images to create a batch tensor\n",
        "    batch_tensor = torch.stack(preprocessed_images)\n",
        "\n",
        "    # Extract features\n",
        "    with torch.no_grad():\n",
        "        features = model(batch_tensor)\n",
        "\n",
        "    return features\n",
        "\n",
        "# img = X[0].reshape((lfw_people.images.shape[1],lfw_people.images.shape[2]))\n",
        "# img = (img * 255).astype(np.uint8)"
      ]
    },
    {
      "cell_type": "code",
      "execution_count": 11,
      "metadata": {
        "colab": {
          "base_uri": "https://localhost:8080/"
        },
        "id": "7qxDs9FE1sfS",
        "outputId": "18afceff-e8d1-4204-d918-af4c012a3a8f"
      },
      "outputs": [
        {
          "name": "stdout",
          "output_type": "stream",
          "text": [
            "(1288, 1850)\n"
          ]
        }
      ],
      "source": [
        "print(X.shape)"
      ]
    },
    {
      "cell_type": "markdown",
      "metadata": {
        "id": "hDAxpuhy95oM"
      },
      "source": [
        "Batch division"
      ]
    },
    {
      "cell_type": "code",
      "execution_count": 12,
      "metadata": {
        "id": "1TfsIdH9r0o6"
      },
      "outputs": [],
      "source": [
        "batch_size = 28\n",
        "\n",
        "X_train_batches = []\n",
        "y_train_batches = []\n",
        "\n",
        "for i in range(int(X.shape[0]/batch_size)):\n",
        "    start_idx = i * batch_size\n",
        "    end_idx = (i + 1) * batch_size\n",
        "    batch1 = X[start_idx:end_idx]\n",
        "    batch2 = X[start_idx:end_idx]\n",
        "    X_train_batches.append(batch1)\n",
        "    y_train_batches.append(batch2)\n",
        "\n",
        "X_batches = np.array(X_train_batches)\n",
        "y_batches = np.array(y_train_batches)"
      ]
    },
    {
      "cell_type": "code",
      "execution_count": 23,
      "metadata": {
        "colab": {
          "base_uri": "https://localhost:8080/"
        },
        "id": "CnmKVBlrs-aC",
        "outputId": "38ff2168-f1b2-4ca4-9519-ec8df7a3767f"
      },
      "outputs": [
        {
          "name": "stdout",
          "output_type": "stream",
          "text": [
            "(46, 28, 1850)\n"
          ]
        }
      ],
      "source": [
        "print(X_batches.shape)"
      ]
    },
    {
      "cell_type": "markdown",
      "metadata": {
        "id": "tx_cL2OL990T"
      },
      "source": [
        "Feature Extraction"
      ]
    },
    {
      "cell_type": "code",
      "execution_count": 14,
      "metadata": {
        "colab": {
          "base_uri": "https://localhost:8080/"
        },
        "id": "SaflBcydt_3E",
        "outputId": "f304d457-53a4-464d-f3df-a84e746129b8"
      },
      "outputs": [
        {
          "name": "stdout",
          "output_type": "stream",
          "text": [
            "Iteration:  0 \n",
            "\n",
            "Iteration:  1 \n",
            "\n",
            "Iteration:  2 \n",
            "\n",
            "Iteration:  3 \n",
            "\n",
            "Iteration:  4 \n",
            "\n",
            "Iteration:  5 \n",
            "\n",
            "Iteration:  6 \n",
            "\n",
            "Iteration:  7 \n",
            "\n",
            "Iteration:  8 \n",
            "\n",
            "Iteration:  9 \n",
            "\n",
            "Iteration:  10 \n",
            "\n",
            "Iteration:  11 \n",
            "\n",
            "Iteration:  12 \n",
            "\n",
            "Iteration:  13 \n",
            "\n",
            "Iteration:  14 \n",
            "\n",
            "Iteration:  15 \n",
            "\n",
            "Iteration:  16 \n",
            "\n",
            "Iteration:  17 \n",
            "\n",
            "Iteration:  18 \n",
            "\n",
            "Iteration:  19 \n",
            "\n",
            "Iteration:  20 \n",
            "\n",
            "Iteration:  21 \n",
            "\n",
            "Iteration:  22 \n",
            "\n",
            "Iteration:  23 \n",
            "\n",
            "Iteration:  24 \n",
            "\n",
            "Iteration:  25 \n",
            "\n",
            "Iteration:  26 \n",
            "\n",
            "Iteration:  27 \n",
            "\n",
            "Iteration:  28 \n",
            "\n",
            "Iteration:  29 \n",
            "\n",
            "Iteration:  30 \n",
            "\n",
            "Iteration:  31 \n",
            "\n",
            "Iteration:  32 \n",
            "\n",
            "Iteration:  33 \n",
            "\n",
            "Iteration:  34 \n",
            "\n",
            "Iteration:  35 \n",
            "\n",
            "Iteration:  36 \n",
            "\n",
            "Iteration:  37 \n",
            "\n",
            "Iteration:  38 \n",
            "\n",
            "Iteration:  39 \n",
            "\n",
            "Iteration:  40 \n",
            "\n",
            "Iteration:  41 \n",
            "\n",
            "Iteration:  42 \n",
            "\n",
            "Iteration:  43 \n",
            "\n",
            "Iteration:  44 \n",
            "\n",
            "Iteration:  45 \n",
            "\n"
          ]
        }
      ],
      "source": [
        "output = []\n",
        "for i in range(X_batches.shape[0]):\n",
        "  print('Iteration: ', i, '\\n')\n",
        "  features = extract_features(X_batches[i], resnet)\n",
        "  output.append(features)"
      ]
    },
    {
      "cell_type": "code",
      "execution_count": null,
      "metadata": {
        "id": "TVETH-_mxdky"
      },
      "outputs": [],
      "source": [
        "output = np.array(output) #Conversion of list to array\n",
        "output = output.squeeze(3).squeeze(3) #Squeezing last two dimensions to make it a 3-D array\n",
        "output = output.reshape(-1,2048) #Reshaping into a 2-D array\n",
        "torch.save(output, 'extracted_features.pt') #Saving the extracted features in a pt file so that it can be used later"
      ]
    },
    {
      "cell_type": "markdown",
      "metadata": {
        "id": "VchxPAnK8Z3d"
      },
      "source": [
        "Train-Test Split"
      ]
    },
    {
      "cell_type": "code",
      "execution_count": 28,
      "metadata": {
        "id": "SIyMZvV15H9H"
      },
      "outputs": [],
      "source": [
        "X_train, X_test, Y_train, Y_test = train_test_split(output, y, test_size=0.2, random_state=0)"
      ]
    },
    {
      "cell_type": "markdown",
      "metadata": {
        "id": "Wi30T5dw8guL"
      },
      "source": [
        "Creating a train-test split of original data"
      ]
    },
    {
      "cell_type": "code",
      "execution_count": 30,
      "metadata": {
        "id": "HbLmcrYb5gl9"
      },
      "outputs": [],
      "source": [
        "X_train2, X_test2, Y_train2, Y_test2 = train_test_split(X, y, test_size=0.2, random_state=0)"
      ]
    },
    {
      "cell_type": "markdown",
      "metadata": {
        "id": "XwokqiwBDM32"
      },
      "source": [
        "Finding best SVM parameters"
      ]
    },
    {
      "cell_type": "markdown",
      "metadata": {
        "id": "AX0XbVsSDXZO"
      },
      "source": [
        "1. SVM Kernel = RBF"
      ]
    },
    {
      "cell_type": "code",
      "execution_count": 40,
      "metadata": {
        "colab": {
          "base_uri": "https://localhost:8080/",
          "height": 1000
        },
        "id": "R8gMVfzQ3MWy",
        "outputId": "c6844b7d-cbbf-4b34-c2df-bb704f1b5170"
      },
      "outputs": [
        {
          "name": "stdout",
          "output_type": "stream",
          "text": [
            "Fitting 5 folds for each of 25 candidates, totalling 125 fits\n",
            "[CV 1/5] END ........C=0.1, gamma=1, kernel=rbf;, score=0.417 total time=   1.6s\n",
            "[CV 2/5] END ........C=0.1, gamma=1, kernel=rbf;, score=0.413 total time=   1.7s\n",
            "[CV 3/5] END ........C=0.1, gamma=1, kernel=rbf;, score=0.413 total time=   1.6s\n",
            "[CV 4/5] END ........C=0.1, gamma=1, kernel=rbf;, score=0.413 total time=   1.6s\n",
            "[CV 5/5] END ........C=0.1, gamma=1, kernel=rbf;, score=0.413 total time=   1.8s\n",
            "[CV 1/5] END ......C=0.1, gamma=0.1, kernel=rbf;, score=0.417 total time=   3.5s\n",
            "[CV 2/5] END ......C=0.1, gamma=0.1, kernel=rbf;, score=0.413 total time=   2.1s\n",
            "[CV 3/5] END ......C=0.1, gamma=0.1, kernel=rbf;, score=0.413 total time=   1.6s\n",
            "[CV 4/5] END ......C=0.1, gamma=0.1, kernel=rbf;, score=0.413 total time=   1.6s\n",
            "[CV 5/5] END ......C=0.1, gamma=0.1, kernel=rbf;, score=0.413 total time=   1.9s\n",
            "[CV 1/5] END .....C=0.1, gamma=0.01, kernel=rbf;, score=0.544 total time=   1.2s\n",
            "[CV 2/5] END .....C=0.1, gamma=0.01, kernel=rbf;, score=0.539 total time=   1.8s\n",
            "[CV 3/5] END .....C=0.1, gamma=0.01, kernel=rbf;, score=0.524 total time=   2.5s\n",
            "[CV 4/5] END .....C=0.1, gamma=0.01, kernel=rbf;, score=0.558 total time=   1.1s\n",
            "[CV 5/5] END .....C=0.1, gamma=0.01, kernel=rbf;, score=0.558 total time=   1.0s\n",
            "[CV 1/5] END ....C=0.1, gamma=0.001, kernel=rbf;, score=0.417 total time=   1.0s\n",
            "[CV 2/5] END ....C=0.1, gamma=0.001, kernel=rbf;, score=0.413 total time=   1.0s\n",
            "[CV 3/5] END ....C=0.1, gamma=0.001, kernel=rbf;, score=0.413 total time=   0.9s\n",
            "[CV 4/5] END ....C=0.1, gamma=0.001, kernel=rbf;, score=0.413 total time=   1.0s\n",
            "[CV 5/5] END ....C=0.1, gamma=0.001, kernel=rbf;, score=0.413 total time=   1.0s\n",
            "[CV 1/5] END ...C=0.1, gamma=0.0001, kernel=rbf;, score=0.417 total time=   1.0s\n",
            "[CV 2/5] END ...C=0.1, gamma=0.0001, kernel=rbf;, score=0.413 total time=   1.0s\n",
            "[CV 3/5] END ...C=0.1, gamma=0.0001, kernel=rbf;, score=0.413 total time=   1.0s\n",
            "[CV 4/5] END ...C=0.1, gamma=0.0001, kernel=rbf;, score=0.413 total time=   1.2s\n",
            "[CV 5/5] END ...C=0.1, gamma=0.0001, kernel=rbf;, score=0.413 total time=   1.2s\n",
            "[CV 1/5] END ..........C=1, gamma=1, kernel=rbf;, score=0.417 total time=   1.9s\n",
            "[CV 2/5] END ..........C=1, gamma=1, kernel=rbf;, score=0.413 total time=   2.2s\n",
            "[CV 3/5] END ..........C=1, gamma=1, kernel=rbf;, score=0.413 total time=   2.1s\n",
            "[CV 4/5] END ..........C=1, gamma=1, kernel=rbf;, score=0.413 total time=   1.6s\n",
            "[CV 5/5] END ..........C=1, gamma=1, kernel=rbf;, score=0.413 total time=   2.3s\n",
            "[CV 1/5] END ........C=1, gamma=0.1, kernel=rbf;, score=0.451 total time=   3.8s\n",
            "[CV 2/5] END ........C=1, gamma=0.1, kernel=rbf;, score=0.447 total time=   2.2s\n",
            "[CV 3/5] END ........C=1, gamma=0.1, kernel=rbf;, score=0.437 total time=   2.1s\n",
            "[CV 4/5] END ........C=1, gamma=0.1, kernel=rbf;, score=0.442 total time=   1.7s\n",
            "[CV 5/5] END ........C=1, gamma=0.1, kernel=rbf;, score=0.471 total time=   1.6s\n",
            "[CV 1/5] END .......C=1, gamma=0.01, kernel=rbf;, score=0.786 total time=   0.8s\n",
            "[CV 2/5] END .......C=1, gamma=0.01, kernel=rbf;, score=0.825 total time=   0.8s\n",
            "[CV 3/5] END .......C=1, gamma=0.01, kernel=rbf;, score=0.786 total time=   0.9s\n",
            "[CV 4/5] END .......C=1, gamma=0.01, kernel=rbf;, score=0.820 total time=   1.1s\n",
            "[CV 5/5] END .......C=1, gamma=0.01, kernel=rbf;, score=0.825 total time=   1.1s\n",
            "[CV 1/5] END ......C=1, gamma=0.001, kernel=rbf;, score=0.612 total time=   0.9s\n",
            "[CV 2/5] END ......C=1, gamma=0.001, kernel=rbf;, score=0.617 total time=   0.9s\n",
            "[CV 3/5] END ......C=1, gamma=0.001, kernel=rbf;, score=0.607 total time=   0.9s\n",
            "[CV 4/5] END ......C=1, gamma=0.001, kernel=rbf;, score=0.650 total time=   0.9s\n",
            "[CV 5/5] END ......C=1, gamma=0.001, kernel=rbf;, score=0.660 total time=   0.9s\n",
            "[CV 1/5] END .....C=1, gamma=0.0001, kernel=rbf;, score=0.417 total time=   1.0s\n",
            "[CV 2/5] END .....C=1, gamma=0.0001, kernel=rbf;, score=0.413 total time=   1.0s\n",
            "[CV 3/5] END .....C=1, gamma=0.0001, kernel=rbf;, score=0.413 total time=   1.0s\n",
            "[CV 4/5] END .....C=1, gamma=0.0001, kernel=rbf;, score=0.413 total time=   1.0s\n",
            "[CV 5/5] END .....C=1, gamma=0.0001, kernel=rbf;, score=0.413 total time=   1.7s\n",
            "[CV 1/5] END .........C=10, gamma=1, kernel=rbf;, score=0.417 total time=   3.0s\n",
            "[CV 2/5] END .........C=10, gamma=1, kernel=rbf;, score=0.413 total time=   2.2s\n",
            "[CV 3/5] END .........C=10, gamma=1, kernel=rbf;, score=0.413 total time=   2.5s\n",
            "[CV 4/5] END .........C=10, gamma=1, kernel=rbf;, score=0.413 total time=   1.9s\n",
            "[CV 5/5] END .........C=10, gamma=1, kernel=rbf;, score=0.413 total time=   1.5s\n",
            "[CV 1/5] END .......C=10, gamma=0.1, kernel=rbf;, score=0.476 total time=   1.6s\n",
            "[CV 2/5] END .......C=10, gamma=0.1, kernel=rbf;, score=0.481 total time=   1.9s\n",
            "[CV 3/5] END .......C=10, gamma=0.1, kernel=rbf;, score=0.476 total time=   1.9s\n",
            "[CV 4/5] END .......C=10, gamma=0.1, kernel=rbf;, score=0.481 total time=   1.6s\n",
            "[CV 5/5] END .......C=10, gamma=0.1, kernel=rbf;, score=0.505 total time=   1.6s\n",
            "[CV 1/5] END ......C=10, gamma=0.01, kernel=rbf;, score=0.864 total time=   0.8s\n",
            "[CV 2/5] END ......C=10, gamma=0.01, kernel=rbf;, score=0.908 total time=   0.8s\n",
            "[CV 3/5] END ......C=10, gamma=0.01, kernel=rbf;, score=0.864 total time=   0.8s\n",
            "[CV 4/5] END ......C=10, gamma=0.01, kernel=rbf;, score=0.903 total time=   0.8s\n",
            "[CV 5/5] END ......C=10, gamma=0.01, kernel=rbf;, score=0.913 total time=   0.8s\n",
            "[CV 1/5] END .....C=10, gamma=0.001, kernel=rbf;, score=0.835 total time=   0.6s\n",
            "[CV 2/5] END .....C=10, gamma=0.001, kernel=rbf;, score=0.840 total time=   0.7s\n",
            "[CV 3/5] END .....C=10, gamma=0.001, kernel=rbf;, score=0.811 total time=   0.9s\n",
            "[CV 4/5] END .....C=10, gamma=0.001, kernel=rbf;, score=0.859 total time=   1.0s\n",
            "[CV 5/5] END .....C=10, gamma=0.001, kernel=rbf;, score=0.874 total time=   1.0s\n",
            "[CV 1/5] END ....C=10, gamma=0.0001, kernel=rbf;, score=0.602 total time=   1.4s\n",
            "[CV 2/5] END ....C=10, gamma=0.0001, kernel=rbf;, score=0.617 total time=   1.1s\n",
            "[CV 3/5] END ....C=10, gamma=0.0001, kernel=rbf;, score=0.607 total time=   0.9s\n",
            "[CV 4/5] END ....C=10, gamma=0.0001, kernel=rbf;, score=0.655 total time=   0.9s\n",
            "[CV 5/5] END ....C=10, gamma=0.0001, kernel=rbf;, score=0.660 total time=   0.9s\n",
            "[CV 1/5] END ........C=100, gamma=1, kernel=rbf;, score=0.417 total time=   1.6s\n",
            "[CV 2/5] END ........C=100, gamma=1, kernel=rbf;, score=0.413 total time=   1.6s\n",
            "[CV 3/5] END ........C=100, gamma=1, kernel=rbf;, score=0.413 total time=   1.5s\n",
            "[CV 4/5] END ........C=100, gamma=1, kernel=rbf;, score=0.413 total time=   1.6s\n",
            "[CV 5/5] END ........C=100, gamma=1, kernel=rbf;, score=0.413 total time=   1.9s\n",
            "[CV 1/5] END ......C=100, gamma=0.1, kernel=rbf;, score=0.476 total time=   2.0s\n",
            "[CV 2/5] END ......C=100, gamma=0.1, kernel=rbf;, score=0.481 total time=   2.1s\n",
            "[CV 3/5] END ......C=100, gamma=0.1, kernel=rbf;, score=0.476 total time=   1.8s\n",
            "[CV 4/5] END ......C=100, gamma=0.1, kernel=rbf;, score=0.481 total time=   1.6s\n",
            "[CV 5/5] END ......C=100, gamma=0.1, kernel=rbf;, score=0.505 total time=   1.6s\n",
            "[CV 1/5] END .....C=100, gamma=0.01, kernel=rbf;, score=0.864 total time=   0.8s\n",
            "[CV 2/5] END .....C=100, gamma=0.01, kernel=rbf;, score=0.908 total time=   0.8s\n",
            "[CV 3/5] END .....C=100, gamma=0.01, kernel=rbf;, score=0.864 total time=   0.9s\n",
            "[CV 4/5] END .....C=100, gamma=0.01, kernel=rbf;, score=0.903 total time=   1.1s\n",
            "[CV 5/5] END .....C=100, gamma=0.01, kernel=rbf;, score=0.913 total time=   1.2s\n",
            "[CV 1/5] END ....C=100, gamma=0.001, kernel=rbf;, score=0.888 total time=   0.6s\n",
            "[CV 2/5] END ....C=100, gamma=0.001, kernel=rbf;, score=0.917 total time=   0.5s\n",
            "[CV 3/5] END ....C=100, gamma=0.001, kernel=rbf;, score=0.908 total time=   0.6s\n",
            "[CV 4/5] END ....C=100, gamma=0.001, kernel=rbf;, score=0.883 total time=   0.6s\n",
            "[CV 5/5] END ....C=100, gamma=0.001, kernel=rbf;, score=0.917 total time=   0.6s\n",
            "[CV 1/5] END ...C=100, gamma=0.0001, kernel=rbf;, score=0.835 total time=   0.6s\n",
            "[CV 2/5] END ...C=100, gamma=0.0001, kernel=rbf;, score=0.845 total time=   0.6s\n",
            "[CV 3/5] END ...C=100, gamma=0.0001, kernel=rbf;, score=0.816 total time=   0.6s\n",
            "[CV 4/5] END ...C=100, gamma=0.0001, kernel=rbf;, score=0.864 total time=   0.7s\n",
            "[CV 5/5] END ...C=100, gamma=0.0001, kernel=rbf;, score=0.879 total time=   0.6s\n",
            "[CV 1/5] END .......C=1000, gamma=1, kernel=rbf;, score=0.417 total time=   1.6s\n",
            "[CV 2/5] END .......C=1000, gamma=1, kernel=rbf;, score=0.413 total time=   1.6s\n",
            "[CV 3/5] END .......C=1000, gamma=1, kernel=rbf;, score=0.413 total time=   1.8s\n",
            "[CV 4/5] END .......C=1000, gamma=1, kernel=rbf;, score=0.413 total time=   2.0s\n",
            "[CV 5/5] END .......C=1000, gamma=1, kernel=rbf;, score=0.413 total time=   1.6s\n",
            "[CV 1/5] END .....C=1000, gamma=0.1, kernel=rbf;, score=0.476 total time=   1.6s\n",
            "[CV 2/5] END .....C=1000, gamma=0.1, kernel=rbf;, score=0.481 total time=   1.6s\n",
            "[CV 3/5] END .....C=1000, gamma=0.1, kernel=rbf;, score=0.476 total time=   1.5s\n",
            "[CV 4/5] END .....C=1000, gamma=0.1, kernel=rbf;, score=0.481 total time=   1.6s\n",
            "[CV 5/5] END .....C=1000, gamma=0.1, kernel=rbf;, score=0.505 total time=   1.6s\n",
            "[CV 1/5] END ....C=1000, gamma=0.01, kernel=rbf;, score=0.864 total time=   1.0s\n",
            "[CV 2/5] END ....C=1000, gamma=0.01, kernel=rbf;, score=0.908 total time=   1.1s\n",
            "[CV 3/5] END ....C=1000, gamma=0.01, kernel=rbf;, score=0.864 total time=   1.0s\n",
            "[CV 4/5] END ....C=1000, gamma=0.01, kernel=rbf;, score=0.903 total time=   0.8s\n",
            "[CV 5/5] END ....C=1000, gamma=0.01, kernel=rbf;, score=0.913 total time=   0.9s\n",
            "[CV 1/5] END ...C=1000, gamma=0.001, kernel=rbf;, score=0.888 total time=   0.6s\n",
            "[CV 2/5] END ...C=1000, gamma=0.001, kernel=rbf;, score=0.917 total time=   0.5s\n",
            "[CV 3/5] END ...C=1000, gamma=0.001, kernel=rbf;, score=0.908 total time=   0.6s\n",
            "[CV 4/5] END ...C=1000, gamma=0.001, kernel=rbf;, score=0.883 total time=   0.6s\n",
            "[CV 5/5] END ...C=1000, gamma=0.001, kernel=rbf;, score=0.917 total time=   0.6s\n",
            "[CV 1/5] END ..C=1000, gamma=0.0001, kernel=rbf;, score=0.888 total time=   0.5s\n",
            "[CV 2/5] END ..C=1000, gamma=0.0001, kernel=rbf;, score=0.913 total time=   0.5s\n",
            "[CV 3/5] END ..C=1000, gamma=0.0001, kernel=rbf;, score=0.903 total time=   0.5s\n",
            "[CV 4/5] END ..C=1000, gamma=0.0001, kernel=rbf;, score=0.888 total time=   0.5s\n",
            "[CV 5/5] END ..C=1000, gamma=0.0001, kernel=rbf;, score=0.922 total time=   0.6s\n",
            "{'C': 100, 'gamma': 0.001, 'kernel': 'rbf'}\n",
            "SVC(C=100, gamma=0.001)\n",
            "RBF Kernel model Accuracy:\n",
            "0.9031007751937985\n"
          ]
        },
        {
          "data": {
            "image/png": "[encoded data removed]",
            "text/plain": [
              "<Figure size 600x600 with 2 Axes>"
            ]
          },
          "metadata": {},
          "output_type": "display_data"
        }
      ],
      "source": [
        "from sklearn.model_selection import GridSearchCV\n",
        "from sklearn.svm import SVC\n",
        "from sklearn.metrics import accuracy_score, precision_score, f1_score, recall_score, confusion_matrix\n",
        "import seaborn as sns\n",
        "\n",
        "# defining parameter range\n",
        "param_grid = {'C': [0.1, 1, 10, 100, 1000],\n",
        "              'gamma': [1, 0.1, 0.01, 0.001, 0.0001],\n",
        "              'kernel': ['rbf']}\n",
        "grid = GridSearchCV(SVC(), param_grid, refit = True, verbose = 3)\n",
        "# fitting the model for grid search\n",
        "grid.fit(X_train, Y_train)\n",
        "# print best parameter after tuning\n",
        "print(grid.best_params_)\n",
        "# print how our model looks after hyper-parameter tuning\n",
        "print(grid.best_estimator_)\n",
        "\n",
        "best_model = grid.best_estimator_\n",
        "y_pred = best_model.predict(X_test)\n",
        "print(\"RBF Kernel model Accuracy:\")\n",
        "print(accuracy_score(Y_test, y_pred))\n",
        "\n",
        "# Confusion Matrix Heatmap\n",
        "cm = confusion_matrix(Y_test, y_pred)\n",
        "plt.figure(figsize=(6, 6))\n",
        "sns.heatmap(cm, annot=True, cmap='Blues', fmt='d',\n",
        "            xticklabels=np.unique(Y_train), yticklabels=np.unique(Y_train))\n",
        "plt.xlabel('Predicted labels')\n",
        "plt.ylabel('True labels')\n",
        "plt.title('Confusion Matrix')\n",
        "plt.show()"
      ]
    },
    {
      "cell_type": "markdown",
      "metadata": {
        "id": "-8Zi9MeEFShW"
      },
      "source": [
        "2. SVM Kernel = Polynomial"
      ]
    },
    {
      "cell_type": "code",
      "execution_count": 41,
      "metadata": {
        "colab": {
          "base_uri": "https://localhost:8080/",
          "height": 1000
        },
        "id": "XChSLGTlFXSn",
        "outputId": "fd417768-8faf-4e6c-928c-1067feadf47e"
      },
      "outputs": [
        {
          "name": "stdout",
          "output_type": "stream",
          "text": [
            "Fitting 5 folds for each of 15 candidates, totalling 75 fits\n",
            "[CV 1/5] END ....degree=2, gamma=1, kernel=poly;, score=0.893 total time=   0.6s\n",
            "[CV 2/5] END ....degree=2, gamma=1, kernel=poly;, score=0.913 total time=   0.6s\n",
            "[CV 3/5] END ....degree=2, gamma=1, kernel=poly;, score=0.913 total time=   0.7s\n",
            "[CV 4/5] END ....degree=2, gamma=1, kernel=poly;, score=0.888 total time=   0.6s\n",
            "[CV 5/5] END ....degree=2, gamma=1, kernel=poly;, score=0.922 total time=   0.7s\n",
            "[CV 1/5] END ..degree=2, gamma=0.1, kernel=poly;, score=0.893 total time=   0.4s\n",
            "[CV 2/5] END ..degree=2, gamma=0.1, kernel=poly;, score=0.913 total time=   0.4s\n",
            "[CV 3/5] END ..degree=2, gamma=0.1, kernel=poly;, score=0.913 total time=   0.4s\n",
            "[CV 4/5] END ..degree=2, gamma=0.1, kernel=poly;, score=0.888 total time=   0.6s\n",
            "[CV 5/5] END ..degree=2, gamma=0.1, kernel=poly;, score=0.922 total time=   0.5s\n",
            "[CV 1/5] END .degree=2, gamma=0.01, kernel=poly;, score=0.888 total time=   0.5s\n",
            "[CV 2/5] END .degree=2, gamma=0.01, kernel=poly;, score=0.922 total time=   0.5s\n",
            "[CV 3/5] END .degree=2, gamma=0.01, kernel=poly;, score=0.913 total time=   0.5s\n",
            "[CV 4/5] END .degree=2, gamma=0.01, kernel=poly;, score=0.888 total time=   0.4s\n",
            "[CV 5/5] END .degree=2, gamma=0.01, kernel=poly;, score=0.922 total time=   0.4s\n",
            "[CV 1/5] END degree=2, gamma=0.001, kernel=poly;, score=0.583 total time=   0.7s\n",
            "[CV 2/5] END degree=2, gamma=0.001, kernel=poly;, score=0.587 total time=   0.7s\n",
            "[CV 3/5] END degree=2, gamma=0.001, kernel=poly;, score=0.568 total time=   0.7s\n",
            "[CV 4/5] END degree=2, gamma=0.001, kernel=poly;, score=0.592 total time=   0.7s\n",
            "[CV 5/5] END degree=2, gamma=0.001, kernel=poly;, score=0.621 total time=   0.7s\n",
            "[CV 1/5] END degree=2, gamma=0.0001, kernel=poly;, score=0.417 total time=   0.7s\n",
            "[CV 2/5] END degree=2, gamma=0.0001, kernel=poly;, score=0.413 total time=   0.7s\n",
            "[CV 3/5] END degree=2, gamma=0.0001, kernel=poly;, score=0.413 total time=   0.7s\n",
            "[CV 4/5] END degree=2, gamma=0.0001, kernel=poly;, score=0.413 total time=   0.7s\n",
            "[CV 5/5] END degree=2, gamma=0.0001, kernel=poly;, score=0.413 total time=   0.7s\n",
            "[CV 1/5] END ....degree=3, gamma=1, kernel=poly;, score=0.879 total time=   0.4s\n",
            "[CV 2/5] END ....degree=3, gamma=1, kernel=poly;, score=0.913 total time=   0.4s\n",
            "[CV 3/5] END ....degree=3, gamma=1, kernel=poly;, score=0.908 total time=   0.4s\n",
            "[CV 4/5] END ....degree=3, gamma=1, kernel=poly;, score=0.893 total time=   0.4s\n",
            "[CV 5/5] END ....degree=3, gamma=1, kernel=poly;, score=0.922 total time=   0.5s\n",
            "[CV 1/5] END ..degree=3, gamma=0.1, kernel=poly;, score=0.879 total time=   0.5s\n",
            "[CV 2/5] END ..degree=3, gamma=0.1, kernel=poly;, score=0.913 total time=   0.5s\n",
            "[CV 3/5] END ..degree=3, gamma=0.1, kernel=poly;, score=0.908 total time=   0.5s\n",
            "[CV 4/5] END ..degree=3, gamma=0.1, kernel=poly;, score=0.893 total time=   0.5s\n",
            "[CV 5/5] END ..degree=3, gamma=0.1, kernel=poly;, score=0.922 total time=   0.6s\n",
            "[CV 1/5] END .degree=3, gamma=0.01, kernel=poly;, score=0.879 total time=   0.4s\n",
            "[CV 2/5] END .degree=3, gamma=0.01, kernel=poly;, score=0.913 total time=   0.4s\n",
            "[CV 3/5] END .degree=3, gamma=0.01, kernel=poly;, score=0.908 total time=   0.4s\n",
            "[CV 4/5] END .degree=3, gamma=0.01, kernel=poly;, score=0.893 total time=   0.4s\n",
            "[CV 5/5] END .degree=3, gamma=0.01, kernel=poly;, score=0.922 total time=   0.4s\n",
            "[CV 1/5] END degree=3, gamma=0.001, kernel=poly;, score=0.553 total time=   0.7s\n",
            "[CV 2/5] END degree=3, gamma=0.001, kernel=poly;, score=0.563 total time=   0.7s\n",
            "[CV 3/5] END degree=3, gamma=0.001, kernel=poly;, score=0.568 total time=   0.7s\n",
            "[CV 4/5] END degree=3, gamma=0.001, kernel=poly;, score=0.578 total time=   0.7s\n",
            "[CV 5/5] END degree=3, gamma=0.001, kernel=poly;, score=0.602 total time=   0.7s\n",
            "[CV 1/5] END degree=3, gamma=0.0001, kernel=poly;, score=0.417 total time=   0.7s\n",
            "[CV 2/5] END degree=3, gamma=0.0001, kernel=poly;, score=0.413 total time=   0.7s\n",
            "[CV 3/5] END degree=3, gamma=0.0001, kernel=poly;, score=0.413 total time=   0.7s\n",
            "[CV 4/5] END degree=3, gamma=0.0001, kernel=poly;, score=0.413 total time=   0.8s\n",
            "[CV 5/5] END degree=3, gamma=0.0001, kernel=poly;, score=0.413 total time=   0.8s\n",
            "[CV 1/5] END ....degree=4, gamma=1, kernel=poly;, score=0.883 total time=   0.6s\n",
            "[CV 2/5] END ....degree=4, gamma=1, kernel=poly;, score=0.913 total time=   0.6s\n",
            "[CV 3/5] END ....degree=4, gamma=1, kernel=poly;, score=0.903 total time=   0.7s\n",
            "[CV 4/5] END ....degree=4, gamma=1, kernel=poly;, score=0.893 total time=   0.5s\n",
            "[CV 5/5] END ....degree=4, gamma=1, kernel=poly;, score=0.917 total time=   0.6s\n",
            "[CV 1/5] END ..degree=4, gamma=0.1, kernel=poly;, score=0.883 total time=   0.5s\n",
            "[CV 2/5] END ..degree=4, gamma=0.1, kernel=poly;, score=0.913 total time=   0.5s\n",
            "[CV 3/5] END ..degree=4, gamma=0.1, kernel=poly;, score=0.903 total time=   0.4s\n",
            "[CV 4/5] END ..degree=4, gamma=0.1, kernel=poly;, score=0.893 total time=   0.4s\n",
            "[CV 5/5] END ..degree=4, gamma=0.1, kernel=poly;, score=0.917 total time=   0.5s\n",
            "[CV 1/5] END .degree=4, gamma=0.01, kernel=poly;, score=0.883 total time=   0.4s\n",
            "[CV 2/5] END .degree=4, gamma=0.01, kernel=poly;, score=0.913 total time=   0.4s\n",
            "[CV 3/5] END .degree=4, gamma=0.01, kernel=poly;, score=0.903 total time=   0.4s\n",
            "[CV 4/5] END .degree=4, gamma=0.01, kernel=poly;, score=0.893 total time=   0.4s\n",
            "[CV 5/5] END .degree=4, gamma=0.01, kernel=poly;, score=0.917 total time=   0.5s\n",
            "[CV 1/5] END degree=4, gamma=0.001, kernel=poly;, score=0.534 total time=   0.8s\n",
            "[CV 2/5] END degree=4, gamma=0.001, kernel=poly;, score=0.534 total time=   0.8s\n",
            "[CV 3/5] END degree=4, gamma=0.001, kernel=poly;, score=0.539 total time=   0.8s\n",
            "[CV 4/5] END degree=4, gamma=0.001, kernel=poly;, score=0.529 total time=   0.8s\n",
            "[CV 5/5] END degree=4, gamma=0.001, kernel=poly;, score=0.553 total time=   0.7s\n",
            "[CV 1/5] END degree=4, gamma=0.0001, kernel=poly;, score=0.417 total time=   0.7s\n",
            "[CV 2/5] END degree=4, gamma=0.0001, kernel=poly;, score=0.413 total time=   0.7s\n",
            "[CV 3/5] END degree=4, gamma=0.0001, kernel=poly;, score=0.413 total time=   0.7s\n",
            "[CV 4/5] END degree=4, gamma=0.0001, kernel=poly;, score=0.413 total time=   0.8s\n",
            "[CV 5/5] END degree=4, gamma=0.0001, kernel=poly;, score=0.413 total time=   0.8s\n",
            "{'degree': 2, 'gamma': 0.01, 'kernel': 'poly'}\n",
            "SVC(degree=2, gamma=0.01, kernel='poly')\n",
            "Polynomial Kernel model Accuracy:\n",
            "0.9031007751937985\n"
          ]
        },
        {
          "data": {
            "image/png": "[encoded data removed]",
            "text/plain": [
              "<Figure size 600x600 with 2 Axes>"
            ]
          },
          "metadata": {},
          "output_type": "display_data"
        }
      ],
      "source": [
        "from sklearn.model_selection import GridSearchCV\n",
        "from sklearn.svm import SVC\n",
        "from sklearn.metrics import accuracy_score, precision_score, f1_score, recall_score, confusion_matrix\n",
        "import seaborn as sns\n",
        "\n",
        "# defining parameter range\n",
        "param_grid = {'degree': [2,3,4],\n",
        "              'gamma': [1, 0.1, 0.01, 0.001, 0.0001],\n",
        "              'kernel': ['poly']}\n",
        "grid = GridSearchCV(SVC(), param_grid, refit = True, verbose = 3)\n",
        "# fitting the model for grid search\n",
        "grid.fit(X_train, Y_train)\n",
        "# print best parameter after tuning\n",
        "print(grid.best_params_)\n",
        "# print how our model looks after hyper-parameter tuning\n",
        "print(grid.best_estimator_)\n",
        "\n",
        "best_model = grid.best_estimator_\n",
        "y_pred = best_model.predict(X_test)\n",
        "print(\"Polynomial Kernel model Accuracy:\")\n",
        "print(accuracy_score(Y_test, y_pred))\n",
        "\n",
        "# Confusion Matrix Heatmap\n",
        "cm = confusion_matrix(Y_test, y_pred)\n",
        "plt.figure(figsize=(6, 6))\n",
        "sns.heatmap(cm, annot=True, cmap='Blues', fmt='d',\n",
        "            xticklabels=np.unique(Y_train), yticklabels=np.unique(Y_train))\n",
        "plt.xlabel('Predicted labels')\n",
        "plt.ylabel('True labels')\n",
        "plt.title('Confusion Matrix')\n",
        "plt.show()"
      ]
    },
    {
      "cell_type": "markdown",
      "metadata": {
        "id": "YPnL1zRNGzed"
      },
      "source": [
        "3. SVM Kernel = Linear"
      ]
    },
    {
      "cell_type": "code",
      "execution_count": 43,
      "metadata": {
        "colab": {
          "base_uri": "https://localhost:8080/",
          "height": 599
        },
        "id": "px0bUgs3GxqW",
        "outputId": "601f602c-f16b-4b66-da60-71c1502aa7fa"
      },
      "outputs": [
        {
          "name": "stdout",
          "output_type": "stream",
          "text": [
            "Linear Kernel model Accuracy:\n",
            "0.9069767441860465\n"
          ]
        },
        {
          "data": {
            "image/png": "[encoded data removed]",
            "text/plain": [
              "<Figure size 600x600 with 2 Axes>"
            ]
          },
          "metadata": {},
          "output_type": "display_data"
        }
      ],
      "source": [
        "svm_linear = SVC(kernel='linear')\n",
        "svm_linear.fit(X_train, Y_train)\n",
        "y_pred = svm_linear.predict(X_test)\n",
        "print(\"Linear Kernel model Accuracy:\")\n",
        "print(accuracy_score(Y_test, y_pred))\n",
        "\n",
        "# Confusion Matrix Heatmap\n",
        "cm = confusion_matrix(Y_test, y_pred)\n",
        "plt.figure(figsize=(6, 6))\n",
        "sns.heatmap(cm, annot=True, cmap='Blues', fmt='d',\n",
        "            xticklabels=np.unique(Y_train), yticklabels=np.unique(Y_train))\n",
        "plt.xlabel('Predicted labels')\n",
        "plt.ylabel('True labels')\n",
        "plt.title('Confusion Matrix')\n",
        "plt.show()"
      ]
    }
  ],
  "metadata": {
    "colab": {
      "provenance": []
    },
    "kernelspec": {
      "display_name": "Python 3",
      "name": "python3"
    },
    "language_info": {
      "name": "python"
    }
  },
  "nbformat": 4,
  "nbformat_minor": 0
}
